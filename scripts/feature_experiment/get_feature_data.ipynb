{
 "cells": [
  {
   "cell_type": "code",
   "execution_count": 1,
   "metadata": {},
   "outputs": [],
   "source": [
    "import numpy as np\n",
    "import matplotlib.pyplot as plt\n",
    "import matplotlib\n",
    "import seaborn as sns\n",
    "import pandas as pd\n",
    "import firebase_admin\n",
    "from firebase_admin import credentials, firestore, db\n",
    "import json\n",
    "import random"
   ]
  },
  {
   "cell_type": "code",
   "execution_count": 2,
   "metadata": {},
   "outputs": [],
   "source": [
    "cred = credentials.Certificate('/Users/evanrussek/server_keys/feature_task_key.json')\n",
    "#cred = credentials.Certificate('C:\\\\Users\\\\erussek\\\\forage_jsp\\\\analysis\\\\foragetask-firebase-private-key.json')\n",
    "default_app = firebase_admin.initialize_app(cred)\n",
    "client = firestore.client()"
   ]
  },
  {
   "cell_type": "code",
   "execution_count": 20,
   "metadata": {},
   "outputs": [
    {
     "name": "stdout",
     "output_type": "stream",
     "text": [
      "0tq919pwtQN2WGDvAuYje5bk7Ny1\n",
      "1Icmw7gc2QcWyzBEXAee5SXBY6p1\n",
      "2Ri2PoRERMUjFVu1JAL5wwj9Q4B2\n",
      "4Ljavubz2cVfdLkvzs8uk83cvnq2\n",
      "7fl1fF3p6QfIUquD6Ul8riJB3aQ2\n",
      "8jy6v6dwYyUm9OIOvq1XrQrkcnX2\n",
      "A7e175FFU1OvXOo6Hkhvwommecg2\n",
      "EoGsgyTUmkPyhK7zLSxlos06SXk1\n",
      "ft5pA5wac4XSVPxSbBDrn3bC3W43\n",
      "j7BBtSDxUkaixRb3BdZF8SSdF5p2\n",
      "jGbaOVkNgWT7ktiofzSo959jU0K3\n",
      "le68ZWm8ulRRmrRoAl4Cg6MYO2x2\n",
      "uWuN6aTmhyWVUZsKFOFnRpPUIyq2\n",
      "yolQ5Q4spobbgY5eyPk4qTz8uiV2\n"
     ]
    }
   ],
   "source": [
    "dfs = []\n",
    "for subj in client.collection('featuretask').document('run1b').collection('subjects').stream():\n",
    "    taskdata_collection = client.collection('featuretask/run1b/subjects/{0}/taskdata'.format(subj.id)).stream()\n",
    "    subjectID = subj.id\n",
    "    has_data = False # did this subject finish the task?\\n\",\n",
    "    has_start = False\n",
    "    for tc in taskdata_collection:\n",
    "        if tc.id == \"start\":\n",
    "            has_start = True\n",
    "            start_dict = tc.to_dict()\n",
    "            subjectID = start_dict['subjectID']    \n",
    "        else:\n",
    "            has_data = True\n",
    "            task_dict = tc.to_dict()\n",
    "            sub_data = json.loads(task_dict['data'])\n",
    "            sub_df = pd.DataFrame(sub_data)\n",
    "        \n",
    "    if has_start & has_data & (len(str(subjectID))>20):\n",
    "        print(subj.id)\n",
    "        sub_df[\"subjectID\"] = subjectID\n",
    "        dfs.append(sub_df)\n",
    "\n",
    "combined_df = pd.concat(dfs, sort = True)\n",
    "combined_df.to_csv('data/run1b_data.csv')\n",
    "\n",
    "\n",
    "    "
   ]
  },
  {
   "cell_type": "code",
   "execution_count": 19,
   "metadata": {},
   "outputs": [
    {
     "data": {
      "text/plain": [
       "'1'"
      ]
     },
     "execution_count": 19,
     "metadata": {},
     "output_type": "execute_result"
    }
   ],
   "source": [
    "str(1)"
   ]
  },
  {
   "cell_type": "code",
   "execution_count": 21,
   "metadata": {},
   "outputs": [],
   "source": [
    "# get one subject dfs\n",
    "bonus_df = pd.DataFrame()\n",
    "subj_IDs = combined_df.subjectID.unique()\n",
    "for i in range(len(subj_IDs)):\n",
    "    s1_data = combined_df[combined_df[\"subjectID\"] == subj_IDs[i]]\n",
    "    rr = s1_data.reward_received[~np.isnan(s1_data.reward_received)][6:]\n",
    "    bonus_points = np.sum(rr.sample(5))\n",
    "    bonus_pct = (bonus_points + 15)/30\n",
    "    bonus = 2*bonus_pct\n",
    "    bonus_dict = {'subjectID': subj_IDs[i], 'bonus': bonus}\n",
    "    bonus_df = bonus_df.append(bonus_dict, ignore_index = True)\n",
    "\n",
    "bonus_df[['subjectID', 'bonus']].to_csv('bonus_files/run1b_bonus_payments.csv', sep = ',', header = False, index = False)"
   ]
  },
  {
   "cell_type": "code",
   "execution_count": 22,
   "metadata": {},
   "outputs": [
    {
     "data": {
      "text/html": [
       "<div>\n",
       "<style scoped>\n",
       "    .dataframe tbody tr th:only-of-type {\n",
       "        vertical-align: middle;\n",
       "    }\n",
       "\n",
       "    .dataframe tbody tr th {\n",
       "        vertical-align: top;\n",
       "    }\n",
       "\n",
       "    .dataframe thead th {\n",
       "        text-align: right;\n",
       "    }\n",
       "</style>\n",
       "<table border=\"1\" class=\"dataframe\">\n",
       "  <thead>\n",
       "    <tr style=\"text-align: right;\">\n",
       "      <th></th>\n",
       "      <th>bonus</th>\n",
       "      <th>subjectID</th>\n",
       "    </tr>\n",
       "  </thead>\n",
       "  <tbody>\n",
       "    <tr>\n",
       "      <th>0</th>\n",
       "      <td>1.466667</td>\n",
       "      <td>5ea60beb07183a615a30a2d4</td>\n",
       "    </tr>\n",
       "    <tr>\n",
       "      <th>1</th>\n",
       "      <td>1.600000</td>\n",
       "      <td>5b0b369230d5620001553596</td>\n",
       "    </tr>\n",
       "    <tr>\n",
       "      <th>2</th>\n",
       "      <td>1.266667</td>\n",
       "      <td>5e9dc0b83df7f70e8c65a331</td>\n",
       "    </tr>\n",
       "    <tr>\n",
       "      <th>3</th>\n",
       "      <td>1.266667</td>\n",
       "      <td>5d151e1490484f001a7f5974</td>\n",
       "    </tr>\n",
       "    <tr>\n",
       "      <th>4</th>\n",
       "      <td>1.133333</td>\n",
       "      <td>5bc2ffbfb17a810001daf2c7</td>\n",
       "    </tr>\n",
       "    <tr>\n",
       "      <th>5</th>\n",
       "      <td>1.200000</td>\n",
       "      <td>5a9d6bc3b5e2110001c6de60</td>\n",
       "    </tr>\n",
       "    <tr>\n",
       "      <th>6</th>\n",
       "      <td>0.866667</td>\n",
       "      <td>5eab3a8a82483a0fa6423fa9</td>\n",
       "    </tr>\n",
       "    <tr>\n",
       "      <th>7</th>\n",
       "      <td>1.066667</td>\n",
       "      <td>5ad3ca7b459c350001137f64</td>\n",
       "    </tr>\n",
       "    <tr>\n",
       "      <th>8</th>\n",
       "      <td>1.066667</td>\n",
       "      <td>55a1137cfdf99b6ec83c1ff3</td>\n",
       "    </tr>\n",
       "    <tr>\n",
       "      <th>9</th>\n",
       "      <td>1.200000</td>\n",
       "      <td>5b70a6f48d336b0001fe97eb</td>\n",
       "    </tr>\n",
       "    <tr>\n",
       "      <th>10</th>\n",
       "      <td>1.000000</td>\n",
       "      <td>5efccd0027e5f40c85df9379</td>\n",
       "    </tr>\n",
       "    <tr>\n",
       "      <th>11</th>\n",
       "      <td>1.666667</td>\n",
       "      <td>5d1f6e8a79b6870016f803da</td>\n",
       "    </tr>\n",
       "    <tr>\n",
       "      <th>12</th>\n",
       "      <td>1.266667</td>\n",
       "      <td>5a7baeeaf49c9a0001f330d5</td>\n",
       "    </tr>\n",
       "    <tr>\n",
       "      <th>13</th>\n",
       "      <td>0.800000</td>\n",
       "      <td>5e3927bf9d5f1e136ce96b0a</td>\n",
       "    </tr>\n",
       "  </tbody>\n",
       "</table>\n",
       "</div>"
      ],
      "text/plain": [
       "       bonus                 subjectID\n",
       "0   1.466667  5ea60beb07183a615a30a2d4\n",
       "1   1.600000  5b0b369230d5620001553596\n",
       "2   1.266667  5e9dc0b83df7f70e8c65a331\n",
       "3   1.266667  5d151e1490484f001a7f5974\n",
       "4   1.133333  5bc2ffbfb17a810001daf2c7\n",
       "5   1.200000  5a9d6bc3b5e2110001c6de60\n",
       "6   0.866667  5eab3a8a82483a0fa6423fa9\n",
       "7   1.066667  5ad3ca7b459c350001137f64\n",
       "8   1.066667  55a1137cfdf99b6ec83c1ff3\n",
       "9   1.200000  5b70a6f48d336b0001fe97eb\n",
       "10  1.000000  5efccd0027e5f40c85df9379\n",
       "11  1.666667  5d1f6e8a79b6870016f803da\n",
       "12  1.266667  5a7baeeaf49c9a0001f330d5\n",
       "13  0.800000  5e3927bf9d5f1e136ce96b0a"
      ]
     },
     "execution_count": 22,
     "metadata": {},
     "output_type": "execute_result"
    }
   ],
   "source": [
    "bonus_df"
   ]
  },
  {
   "cell_type": "code",
   "execution_count": 61,
   "metadata": {},
   "outputs": [],
   "source": [
    "i = 0\n",
    "s1_data = combined_df[combined_df[\"subjectID\"] == subj_IDs[i]]"
   ]
  },
  {
   "cell_type": "code",
   "execution_count": 62,
   "metadata": {},
   "outputs": [],
   "source": [
    "rr = s1_data.reward_received[~np.isnan(s1_data.reward_received)][5:]\n",
    "bonus_points = np.sum(rr.sample(5))\n",
    "bonus_pct = (bonus_points + 15)/30\n",
    "bonus = 2*bonus_pct\n",
    "bonus_dict = {'subjectID': subj_IDs[i], 'bonus': bonus}"
   ]
  },
  {
   "cell_type": "code",
   "execution_count": 63,
   "metadata": {},
   "outputs": [
    {
     "data": {
      "text/plain": [
       "{'subjectID': '5b6359dff4db970001229501', 'bonus': 1.2666666666666666}"
      ]
     },
     "execution_count": 63,
     "metadata": {},
     "output_type": "execute_result"
    }
   ],
   "source": [
    "bonus_dict"
   ]
  },
  {
   "cell_type": "code",
   "execution_count": 66,
   "metadata": {},
   "outputs": [
    {
     "data": {
      "text/html": [
       "<div>\n",
       "<style scoped>\n",
       "    .dataframe tbody tr th:only-of-type {\n",
       "        vertical-align: middle;\n",
       "    }\n",
       "\n",
       "    .dataframe tbody tr th {\n",
       "        vertical-align: top;\n",
       "    }\n",
       "\n",
       "    .dataframe thead th {\n",
       "        text-align: right;\n",
       "    }\n",
       "</style>\n",
       "<table border=\"1\" class=\"dataframe\">\n",
       "  <thead>\n",
       "    <tr style=\"text-align: right;\">\n",
       "      <th></th>\n",
       "      <th>bonus</th>\n",
       "      <th>subjectID</th>\n",
       "    </tr>\n",
       "  </thead>\n",
       "  <tbody>\n",
       "    <tr>\n",
       "      <th>0</th>\n",
       "      <td>1.066667</td>\n",
       "      <td>5b6359dff4db970001229501</td>\n",
       "    </tr>\n",
       "    <tr>\n",
       "      <th>1</th>\n",
       "      <td>0.600000</td>\n",
       "      <td>5d52e92220d410001799d261</td>\n",
       "    </tr>\n",
       "    <tr>\n",
       "      <th>2</th>\n",
       "      <td>1.333333</td>\n",
       "      <td>5ef4bb3193bc300828ad5e9b</td>\n",
       "    </tr>\n",
       "    <tr>\n",
       "      <th>3</th>\n",
       "      <td>1.200000</td>\n",
       "      <td>5f077fdf5f079b3961a02ad1</td>\n",
       "    </tr>\n",
       "  </tbody>\n",
       "</table>\n",
       "</div>"
      ],
      "text/plain": [
       "      bonus                 subjectID\n",
       "0  1.066667  5b6359dff4db970001229501\n",
       "1  0.600000  5d52e92220d410001799d261\n",
       "2  1.333333  5ef4bb3193bc300828ad5e9b\n",
       "3  1.200000  5f077fdf5f079b3961a02ad1"
      ]
     },
     "execution_count": 66,
     "metadata": {},
     "output_type": "execute_result"
    }
   ],
   "source": [
    "bonus_df"
   ]
  },
  {
   "cell_type": "code",
   "execution_count": null,
   "metadata": {},
   "outputs": [],
   "source": []
  }
 ],
 "metadata": {
  "kernelspec": {
   "display_name": "Python 3",
   "language": "python",
   "name": "python3"
  },
  "language_info": {
   "codemirror_mode": {
    "name": "ipython",
    "version": 3
   },
   "file_extension": ".py",
   "mimetype": "text/x-python",
   "name": "python",
   "nbconvert_exporter": "python",
   "pygments_lexer": "ipython3",
   "version": "3.7.1"
  }
 },
 "nbformat": 4,
 "nbformat_minor": 2
}
