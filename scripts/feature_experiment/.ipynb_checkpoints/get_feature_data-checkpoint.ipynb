{
 "cells": [
  {
   "cell_type": "code",
   "execution_count": 1,
   "metadata": {},
   "outputs": [],
   "source": [
    "import numpy as np\n",
    "import matplotlib.pyplot as plt\n",
    "import matplotlib\n",
    "import seaborn as sns\n",
    "import pandas as pd\n",
    "import firebase_admin\n",
    "from firebase_admin import credentials, firestore, db\n",
    "import json\n",
    "import random"
   ]
  },
  {
   "cell_type": "code",
   "execution_count": 2,
   "metadata": {},
   "outputs": [],
   "source": [
    "cred = credentials.Certificate('/Users/evanrussek/server_keys/feature_task_key.json')\n",
    "#cred = credentials.Certificate('C:\\\\Users\\\\erussek\\\\forage_jsp\\\\analysis\\\\foragetask-firebase-private-key.json')\n",
    "default_app = firebase_admin.initialize_app(cred)\n",
    "client = firestore.client()"
   ]
  },
  {
   "cell_type": "code",
   "execution_count": 7,
   "metadata": {},
   "outputs": [],
   "source": [
    "dfs = []\n",
    "for subj in client.collection('featuretask').document('run1').collection('subjects').stream():\n",
    "    taskdata_collection = client.collection('featuretask/run1/subjects/{0}/taskdata'.format(subj.id)).stream()\n",
    "    subjectID = subj.id\n",
    "    has_data = False # did this subject finish the task?\\n\",\n",
    "    has_start = False\n",
    "    for tc in taskdata_collection:\n",
    "        if tc.id == \"start\":\n",
    "            has_start = True\n",
    "            start_dict = tc.to_dict()\n",
    "            subjectID = start_dict['subjectID']    \n",
    "        else:\n",
    "            has_data = True\n",
    "            task_dict = tc.to_dict()\n",
    "            sub_data = json.loads(task_dict['data'])\n",
    "            sub_df = pd.DataFrame(sub_data)\n",
    "            #sub_df['subjectID'] = subj.id\n",
    "        \n",
    "    if has_start & has_data:\n",
    "        sub_df[\"subjectID\"] = subjectID\n",
    "        dfs.append(sub_df)\n",
    "\n",
    "combined_df = pd.concat(dfs, sort = True)\n",
    "combined_df.to_csv('data/run1_data.csv')\n",
    "\n",
    "\n",
    "\n",
    "    "
   ]
  },
  {
   "cell_type": "code",
   "execution_count": 6,
   "metadata": {},
   "outputs": [],
   "source": [
    "# get one subject dfs\n",
    "bonus_df = pd.DataFrame()\n",
    "subj_IDs = np.unique(combined_df.subjectID)\n",
    "for i in range(len(subj_IDs)):\n",
    "    s1_data = combined_df[combined_df[\"subjectID\"] == subj_IDs[i]]\n",
    "    rr = s1_data.reward_received[~np.isnan(s1_data.reward_received)][5:]\n",
    "    bonus_points = np.sum(rr.sample(5))\n",
    "    bonus_pct = (bonus_points + 15)/30\n",
    "    bonus = 2*bonus_pct\n",
    "    bonus_dict = {'subjectID': subj_IDs[i], 'bonus': bonus}\n",
    "    bonus_df = bonus_df.append(bonus_dict, ignore_index = True)\n",
    "\n",
    "bonus_df[['subjectID', 'bonus']].to_csv('bonus_files/run1_bonus_payments.csv', sep = ',', header = False, index = False)\n"
   ]
  },
  {
   "cell_type": "code",
   "execution_count": 61,
   "metadata": {},
   "outputs": [],
   "source": [
    "i = 0\n",
    "s1_data = combined_df[combined_df[\"subjectID\"] == subj_IDs[i]]"
   ]
  },
  {
   "cell_type": "code",
   "execution_count": 62,
   "metadata": {},
   "outputs": [],
   "source": [
    "rr = s1_data.reward_received[~np.isnan(s1_data.reward_received)][5:]\n",
    "bonus_points = np.sum(rr.sample(5))\n",
    "bonus_pct = (bonus_points + 15)/30\n",
    "bonus = 2*bonus_pct\n",
    "bonus_dict = {'subjectID': subj_IDs[i], 'bonus': bonus}"
   ]
  },
  {
   "cell_type": "code",
   "execution_count": 63,
   "metadata": {},
   "outputs": [
    {
     "data": {
      "text/plain": [
       "{'subjectID': '5b6359dff4db970001229501', 'bonus': 1.2666666666666666}"
      ]
     },
     "execution_count": 63,
     "metadata": {},
     "output_type": "execute_result"
    }
   ],
   "source": [
    "bonus_dict"
   ]
  },
  {
   "cell_type": "code",
   "execution_count": 66,
   "metadata": {},
   "outputs": [
    {
     "data": {
      "text/html": [
       "<div>\n",
       "<style scoped>\n",
       "    .dataframe tbody tr th:only-of-type {\n",
       "        vertical-align: middle;\n",
       "    }\n",
       "\n",
       "    .dataframe tbody tr th {\n",
       "        vertical-align: top;\n",
       "    }\n",
       "\n",
       "    .dataframe thead th {\n",
       "        text-align: right;\n",
       "    }\n",
       "</style>\n",
       "<table border=\"1\" class=\"dataframe\">\n",
       "  <thead>\n",
       "    <tr style=\"text-align: right;\">\n",
       "      <th></th>\n",
       "      <th>bonus</th>\n",
       "      <th>subjectID</th>\n",
       "    </tr>\n",
       "  </thead>\n",
       "  <tbody>\n",
       "    <tr>\n",
       "      <th>0</th>\n",
       "      <td>1.066667</td>\n",
       "      <td>5b6359dff4db970001229501</td>\n",
       "    </tr>\n",
       "    <tr>\n",
       "      <th>1</th>\n",
       "      <td>0.600000</td>\n",
       "      <td>5d52e92220d410001799d261</td>\n",
       "    </tr>\n",
       "    <tr>\n",
       "      <th>2</th>\n",
       "      <td>1.333333</td>\n",
       "      <td>5ef4bb3193bc300828ad5e9b</td>\n",
       "    </tr>\n",
       "    <tr>\n",
       "      <th>3</th>\n",
       "      <td>1.200000</td>\n",
       "      <td>5f077fdf5f079b3961a02ad1</td>\n",
       "    </tr>\n",
       "  </tbody>\n",
       "</table>\n",
       "</div>"
      ],
      "text/plain": [
       "      bonus                 subjectID\n",
       "0  1.066667  5b6359dff4db970001229501\n",
       "1  0.600000  5d52e92220d410001799d261\n",
       "2  1.333333  5ef4bb3193bc300828ad5e9b\n",
       "3  1.200000  5f077fdf5f079b3961a02ad1"
      ]
     },
     "execution_count": 66,
     "metadata": {},
     "output_type": "execute_result"
    }
   ],
   "source": [
    "bonus_df"
   ]
  },
  {
   "cell_type": "code",
   "execution_count": null,
   "metadata": {},
   "outputs": [],
   "source": []
  }
 ],
 "metadata": {
  "kernelspec": {
   "display_name": "Python 3",
   "language": "python",
   "name": "python3"
  },
  "language_info": {
   "codemirror_mode": {
    "name": "ipython",
    "version": 3
   },
   "file_extension": ".py",
   "mimetype": "text/x-python",
   "name": "python",
   "nbconvert_exporter": "python",
   "pygments_lexer": "ipython3",
   "version": "3.7.1"
  }
 },
 "nbformat": 4,
 "nbformat_minor": 2
}
