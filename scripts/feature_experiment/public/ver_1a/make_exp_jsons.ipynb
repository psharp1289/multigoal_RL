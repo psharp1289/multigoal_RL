{
 "cells": [
  {
   "cell_type": "code",
   "execution_count": 8,
   "metadata": {},
   "outputs": [],
   "source": [
    "import numpy as np\n",
    "import json\n",
    "import matplotlib.pyplot as plt\n",
    "import numpy.random as nr"
   ]
  },
  {
   "cell_type": "code",
   "execution_count": 9,
   "metadata": {},
   "outputs": [],
   "source": [
    "# load in paul's numpy files...\n",
    "feature_prob_df = np.load(\"numpy_files/dangerous_first_order.npy\")\n",
    "file_name_df = \"feature_prob_danger_first.json\";\n",
    "\n",
    "feature_prob_sf = np.load(\"numpy_files/safe_first_order.npy\")\n",
    "file_name_sf = \"feature_prob_safe_first.json\";\n",
    "\n",
    "def make_feature_prob_json(feature_prob_mtx, file_name):\n",
    "    # build it as a dict\n",
    "    sf_prob_dict = {};\n",
    "    n_trials = feature_prob_mtx.shape[2]\n",
    "    for trial_idx in range(n_trials):\n",
    "    # create a dict for each \n",
    "        trial_dict = {}\n",
    "        for state_idx in range(3):\n",
    "            trial_dict[\"s_{}\".format(state_idx)] = list(feature_prob_mtx[state_idx,:,trial_idx])\n",
    "        sf_prob_dict[trial_idx] = trial_dict\n",
    "\n",
    "    with open(file_name, 'w') as outfile:\n",
    "        json.dump(sf_prob_dict, outfile)\n",
    "\n",
    "make_feature_prob_json(feature_prob_df, file_name_df)\n",
    "make_feature_prob_json(feature_prob_sf, file_name_sf)"
   ]
  },
  {
   "cell_type": "code",
   "execution_count": 10,
   "metadata": {},
   "outputs": [],
   "source": [
    "# load in reward files\n",
    "rewards_safe = np.load(\"numpy_files/rf_safe_thresh_short.npy\")\n",
    "file_name_safe = \"rewards_safe.json\";\n",
    "rewards_danger = np.load(\"numpy_files/rf_pred_thresh_short.npy\")\n",
    "file_name_danger = \"rewards_danger.json\";\n",
    "\n",
    "rewards_safe_first = np.concatenate((rewards_safe,rewards_danger), axis=0)\n",
    "rewards_danger_first = np.concatenate((rewards_danger,rewards_safe), axis=0)\n",
    "\n",
    "def make_reward_json(rewards_arr, file_name):\n",
    "    reward_dict = {}\n",
    "    n_trials = rewards_arr.shape[0]\n",
    "    for trial_idx in range(n_trials):\n",
    "        reward_dict[trial_idx] = list(rewards_arr[trial_idx,:])\n",
    "\n",
    "    with open(file_name, 'w') as outfile:\n",
    "        json.dump(reward_dict, outfile)\n",
    "        \n",
    "make_reward_json(rewards_safe_first, file_name_safe)\n",
    "make_reward_json(rewards_danger_first, file_name_danger)"
   ]
  },
  {
   "cell_type": "code",
   "execution_count": null,
   "metadata": {},
   "outputs": [],
   "source": []
  }
 ],
 "metadata": {
  "kernelspec": {
   "display_name": "Python 3",
   "language": "python",
   "name": "python3"
  },
  "language_info": {
   "codemirror_mode": {
    "name": "ipython",
    "version": 3
   },
   "file_extension": ".py",
   "mimetype": "text/x-python",
   "name": "python",
   "nbconvert_exporter": "python",
   "pygments_lexer": "ipython3",
   "version": "3.7.1"
  }
 },
 "nbformat": 4,
 "nbformat_minor": 2
}
